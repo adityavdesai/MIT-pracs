{
 "cells": [
  {
   "cell_type": "code",
   "execution_count": 71,
   "metadata": {},
   "outputs": [],
   "source": [
    "# Importing Libraries\n",
    "import numpy as np\n",
    "import itertools"
   ]
  },
  {
   "cell_type": "code",
   "execution_count": 72,
   "metadata": {},
   "outputs": [],
   "source": [
    "#Transaction example from Han-Kamber\n",
    "transactions = [\n",
    "    [\"1\", \"2\", \"5\", \"nan\"],\n",
    "    [\"2\", \"4\", \"nan\", \"nan\"],\n",
    "    [\"2\", \"3\", \"nan\", \"nan\"],\n",
    "    [\"1\", \"2\", \"4\", \"nan\"],\n",
    "    [\"1\", \"3\", \"nan\", \"nan\"],\n",
    "    [\"2\", \"3\", \"nan\", \"nan\"],\n",
    "    [\"1\", \"3\", \"nan\", \"nan\"],\n",
    "    [\"1\", \"2\", \"3\", \"5\"],\n",
    "    [\"1\", \"2\", \"3\", \"nan\"],\n",
    "]"
   ]
  },
  {
   "cell_type": "code",
   "execution_count": 73,
   "metadata": {},
   "outputs": [],
   "source": [
    "def cal_support(collection,transactions):\n",
    "    '''\n",
    "    Calculates support for a collection\n",
    "    '''\n",
    "    support = dict()\n",
    "    for x in collection:\n",
    "        ##Adding support to the dictionary\n",
    "        support[str(x)] = len( [ i for i in transactions if set(x).issubset(set(i)) ] ) / len(transactions)\n",
    "    return support"
   ]
  },
  {
   "cell_type": "code",
   "execution_count": 74,
   "metadata": {},
   "outputs": [],
   "source": [
    "def cal_confidence(x,y,transactions):\n",
    "    '''\n",
    "    Calculate confidence the given association rule\n",
    "    '''\n",
    "    ## returning the confidence of the list\n",
    "    confidence = len([i for i in transactions if set(x + y).issubset(set(i))]) / len(\n",
    "    [j for j in transactions if set(x).issubset(set(j))]\n",
    ")\n",
    "    return confidence"
   ]
  },
  {
   "cell_type": "code",
   "execution_count": 75,
   "metadata": {},
   "outputs": [],
   "source": [
    "def powerset(iterable):\n",
    "    '''\n",
    "    Generates a powerset from a tupel\n",
    "    '''\n",
    "    s = list(iterable)\n",
    "    return list(\n",
    "    itertools.chain.from_iterable(\n",
    "        itertools.combinations(s, r) for r in range(len(s) + 1)\n",
    "        )\n",
    "    )[1:]"
   ]
  },
  {
   "cell_type": "code",
   "execution_count": 76,
   "metadata": {},
   "outputs": [],
   "source": [
    "def apriori_rulegen(transactions,threshold_support = 0.2,threshold_confidence = 0.7):\n",
    "    \n",
    "    '''\n",
    "    Input: Transactions + thresholds\n",
    "    Output: Set of association rules\n",
    "    '''\n",
    "    #Getting a list of all items\n",
    "    all_items = [ [j]\n",
    "        for j in list(set([i for i in np.array(transactions).reshape(-1) if i != \"nan\"]))\n",
    "    ]\n",
    "    associated_groups = []\n",
    "    order = 2\n",
    "    #Iter till no more items can be grouped\n",
    "    while len(all_items) != 0 :\n",
    "        support = cal_support(all_items, transactions)\n",
    "        for x in all_items:\n",
    "            #Comparing support with threshold\n",
    "            if support[str(x)] > threshold_support:\n",
    "                associated_groups.append((x,support[str(x)]))\n",
    "\n",
    "        #Grouping elements\n",
    "        all_items = list(\n",
    "            itertools.combinations(list(set(np.array(all_items).reshape(-1))), order)\n",
    "        )\n",
    "        #Incrementing grouping order\n",
    "        order += 1\n",
    "\n",
    "    #Removing singles\n",
    "    associated_groups = [i for i in associated_groups if len(i[0])>1]\n",
    "\n",
    "    #For condifence\n",
    "    ordered_groups = []\n",
    "    for g, c in associated_groups:\n",
    "        for x, y in itertools.permutations(powerset(g), 2):\n",
    "            if cal_confidence(x, y, transactions) > threshold_confidence and len(\n",
    "                set(x + y)\n",
    "            ) == len(x) + len(y):\n",
    "                ordered_groups.append(\n",
    "                    (\n",
    "                        (x, y),  ##The Order\n",
    "                        cal_confidence(x, y, transactions),  ##The Confidence\n",
    "                    )\n",
    "                )\n",
    "\n",
    "\n",
    "    #(Association rule,support,confidence)\n",
    "    return set(ordered_groups)\n"
   ]
  },
  {
   "cell_type": "code",
   "execution_count": 77,
   "metadata": {},
   "outputs": [
    {
     "name": "stdout",
     "output_type": "stream",
     "text": [
      "Rule: ('5',) -> ('1',)     Confidence: 1.0\n",
      "Rule: ('5',) -> ('2',)     Confidence: 1.0\n",
      "Rule: ('5', '1') -> ('2',)     Confidence: 1.0\n",
      "Rule: ('4',) -> ('2',)     Confidence: 1.0\n",
      "Rule: ('5',) -> ('2', '1')     Confidence: 1.0\n",
      "Rule: ('2', '5') -> ('1',)     Confidence: 1.0\n"
     ]
    }
   ],
   "source": [
    "#Final result\n",
    "association_rules = apriori_rulegen(transactions)\n",
    "for rule,conf in association_rules:\n",
    "    print(f\"Rule: {rule[0]} -> {rule[1]}     Confidence: {conf}\")"
   ]
  }
 ],
 "metadata": {
  "kernelspec": {
   "display_name": "Python 3",
   "language": "python",
   "name": "python3"
  },
  "language_info": {
   "codemirror_mode": {
    "name": "ipython",
    "version": 3
   },
   "file_extension": ".py",
   "mimetype": "text/x-python",
   "name": "python",
   "nbconvert_exporter": "python",
   "pygments_lexer": "ipython3",
   "version": "3.7.4"
  }
 },
 "nbformat": 4,
 "nbformat_minor": 2
}
