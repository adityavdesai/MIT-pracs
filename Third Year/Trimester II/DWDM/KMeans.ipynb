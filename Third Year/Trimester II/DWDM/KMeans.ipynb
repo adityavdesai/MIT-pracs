{
 "cells": [
  {
   "cell_type": "code",
   "execution_count": 51,
   "metadata": {},
   "outputs": [],
   "source": [
    "#Importing libraries\n",
    "import numpy as np\n",
    "import matplotlib.pyplot as plt"
   ]
  },
  {
   "cell_type": "code",
   "execution_count": 52,
   "metadata": {},
   "outputs": [],
   "source": [
    "#A simple 2D dataset\n",
    "twoD_dataset = [(1,1),(1.5,2),(3.9,4.0),(5.0,7.0),(1.0,2.0),(3.5,5.0),(4.5,5.0),(3.5,4.5),(1.7,2.1),(0.7,1.2),(4.3,5.5),(4.5,6.0)]\n",
    "X = [i[0] for i in twoD_dataset]\n",
    "Y = [i[1] for i in twoD_dataset]"
   ]
  },
  {
   "cell_type": "code",
   "execution_count": 53,
   "metadata": {},
   "outputs": [],
   "source": [
    "def best_from_dict(d):\n",
    "    '''\n",
    "    The function returns the closest centroid key\n",
    "    '''\n",
    "    prev_key = None\n",
    "    prev = np.inf\n",
    "    for key,value in d.items():\n",
    "        if value < prev:\n",
    "            prev_key = key\n",
    "            prev = value\n",
    "    return prev_key"
   ]
  },
  {
   "cell_type": "code",
   "execution_count": 54,
   "metadata": {},
   "outputs": [],
   "source": [
    "def get_clusters(no,data):\n",
    "    '''\n",
    "    It takes the number of clusters and data and returns the cluster groups\n",
    "    '''\n",
    "    f_list = dict()\n",
    "    new_list = dict()\n",
    "    for i in range(no):\n",
    "        f_list[data[i]] = []\n",
    "        new_list[data[i]] = []\n",
    "    \n",
    "    count = 0\n",
    "    while True:\n",
    "        count += 1\n",
    "        for j in data:\n",
    "            dist = dict()\n",
    "            for k in new_list.keys():\n",
    "                dist[k] = np.linalg.norm(np.array(k)-np.array(j))\n",
    "            new_list[best_from_dict(dist)].append(j)\n",
    "            \n",
    "        tempt_dict = dict()\n",
    "        \n",
    "        for i in new_list.values():\n",
    "            #Redeclaring the centroids\n",
    "            average = tuple([sum(x)/len(x) for x in zip(*i)])\n",
    "            tempt_dict[average] = i\n",
    "            \n",
    "        #Checking for convergence\n",
    "        new_list = tempt_dict\n",
    "        print(f\"Iteration {count}\")\n",
    "        for centroids,points in new_list.items():\n",
    "            print(\"Centroid:\",centroids ,\"\\nPoints:\")\n",
    "            for i in points:\n",
    "                print(i)\n",
    "            print(\"\\n\\n\")\n",
    "        if new_list == f_list:\n",
    "            break\n",
    "        else:\n",
    "            #Setting final list\n",
    "            f_list = new_list\n",
    "            \n",
    "            for i in new_list.keys():\n",
    "                #Resetting new list\n",
    "                new_list[i] = []            \n",
    "    return f_list"
   ]
  },
  {
   "cell_type": "code",
   "execution_count": 55,
   "metadata": {},
   "outputs": [
    {
     "name": "stdout",
     "output_type": "stream",
     "text": [
      "Iteration 1\n",
      "Centroid: (0.85, 1.1) \n",
      "Points:\n",
      "(1, 1)\n",
      "(0.7, 1.2)\n",
      "\n",
      "\n",
      "\n",
      "Centroid: (3.34, 4.3100000000000005) \n",
      "Points:\n",
      "(1.5, 2)\n",
      "(3.9, 4.0)\n",
      "(5.0, 7.0)\n",
      "(1.0, 2.0)\n",
      "(3.5, 5.0)\n",
      "(4.5, 5.0)\n",
      "(3.5, 4.5)\n",
      "(1.7, 2.1)\n",
      "(4.3, 5.5)\n",
      "(4.5, 6.0)\n",
      "\n",
      "\n",
      "\n",
      "Iteration 2\n",
      "Centroid: (1.1800000000000002, 1.6599999999999997) \n",
      "Points:\n",
      "(1, 1)\n",
      "(1.5, 2)\n",
      "(1.0, 2.0)\n",
      "(1.7, 2.1)\n",
      "(0.7, 1.2)\n",
      "\n",
      "\n",
      "\n",
      "Centroid: (4.171428571428572, 5.285714285714286) \n",
      "Points:\n",
      "(3.9, 4.0)\n",
      "(5.0, 7.0)\n",
      "(3.5, 5.0)\n",
      "(4.5, 5.0)\n",
      "(3.5, 4.5)\n",
      "(4.3, 5.5)\n",
      "(4.5, 6.0)\n",
      "\n",
      "\n",
      "\n",
      "Iteration 3\n",
      "Centroid: (1.1800000000000002, 1.6599999999999997) \n",
      "Points:\n",
      "(1, 1)\n",
      "(1.5, 2)\n",
      "(1.0, 2.0)\n",
      "(1.7, 2.1)\n",
      "(0.7, 1.2)\n",
      "\n",
      "\n",
      "\n",
      "Centroid: (4.171428571428572, 5.285714285714286) \n",
      "Points:\n",
      "(3.9, 4.0)\n",
      "(5.0, 7.0)\n",
      "(3.5, 5.0)\n",
      "(4.5, 5.0)\n",
      "(3.5, 4.5)\n",
      "(4.3, 5.5)\n",
      "(4.5, 6.0)\n",
      "\n",
      "\n",
      "\n",
      "\n",
      "\n",
      "FINAL RESULT :- \n",
      "\n",
      "Centroid: (1.1800000000000002, 1.6599999999999997) \n",
      "Points:\n",
      "(1, 1)\n",
      "(1.5, 2)\n",
      "(1.0, 2.0)\n",
      "(1.7, 2.1)\n",
      "(0.7, 1.2)\n",
      "\n",
      "\n",
      "Centroid: (4.171428571428572, 5.285714285714286) \n",
      "Points:\n",
      "(3.9, 4.0)\n",
      "(5.0, 7.0)\n",
      "(3.5, 5.0)\n",
      "(4.5, 5.0)\n",
      "(3.5, 4.5)\n",
      "(4.3, 5.5)\n",
      "(4.5, 6.0)\n",
      "\n",
      "\n"
     ]
    }
   ],
   "source": [
    "#Getting the results\n",
    "clusters = get_clusters(2,twoD_dataset)\n",
    "\n",
    "#Displaying the results'\n",
    "print(\"\\n\\nFINAL RESULT :- \\n\")\n",
    "for centroids,points in clusters.items():\n",
    "    print(\"Centroid:\",centroids ,\"\\nPoints:\")\n",
    "    for i in points:\n",
    "        print(i)\n",
    "    print(\"\\n\")"
   ]
  },
  {
   "cell_type": "code",
   "execution_count": 56,
   "metadata": {},
   "outputs": [
    {
     "data": {
      "text/plain": [
       "Text(0.5, 1.0, 'K-Means')"
      ]
     },
     "execution_count": 56,
     "metadata": {},
     "output_type": "execute_result"
    },
    {
     "data": {
      "image/png": "[encoded data removed]",
      "text/plain": [
       "<Figure size 432x288 with 1 Axes>"
      ]
     },
     "metadata": {
      "needs_background": "light"
     },
     "output_type": "display_data"
    }
   ],
   "source": [
    "plt.scatter(X,Y,c=Y)\n",
    "plt.xlabel('X')\n",
    "plt.ylabel('Y')\n",
    "plt.title('K-Means')"
   ]
  }
 ],
 "metadata": {
  "kernelspec": {
   "display_name": "Python 3",
   "language": "python",
   "name": "python3"
  },
  "language_info": {
   "codemirror_mode": {
    "name": "ipython",
    "version": 3
   },
   "file_extension": ".py",
   "mimetype": "text/x-python",
   "name": "python",
   "nbconvert_exporter": "python",
   "pygments_lexer": "ipython3",
   "version": "3.7.4"
  }
 },
 "nbformat": 4,
 "nbformat_minor": 2
}
