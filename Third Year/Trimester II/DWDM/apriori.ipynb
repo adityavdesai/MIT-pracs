{
 "cells": [
  {
   "cell_type": "code",
   "execution_count": 1,
   "metadata": {},
   "outputs": [],
   "source": [
    "# Importing libraries\n",
    "import numpy as np\n",
    "import pandas as pd #If CSV is used"
   ]
  },
  {
   "cell_type": "code",
   "execution_count": 2,
   "metadata": {},
   "outputs": [],
   "source": [
    "#Transaction example from Han-Kamber\n",
    "transactions = [['1','2','5','nan'],['2','4','nan','nan'],['2','3','nan','nan'],['1','2','4','nan'],['1','3','nan','nan'],['2','3','nan','nan'],['1','3','nan','nan'],['1','2','3','5'],['1','2','3','nan']]"
   ]
  },
  {
   "cell_type": "code",
   "execution_count": 3,
   "metadata": {},
   "outputs": [],
   "source": [
    "#Importing the library\n",
    "from apyori import apriori"
   ]
  },
  {
   "cell_type": "code",
   "execution_count": 4,
   "metadata": {},
   "outputs": [],
   "source": [
    "#Generating the rules\n",
    "rules = apriori([[i for i in j if i != 'nan'] for j in transactions],min_support=0.2,min_confidence=0.7)\n",
    "result = list(rules)"
   ]
  },
  {
   "cell_type": "code",
   "execution_count": 5,
   "metadata": {},
   "outputs": [
    {
     "name": "stdout",
     "output_type": "stream",
     "text": [
      "2, [Support =  0.7777777777777778 , Confidence =  0.7777777777777778 , Lift =  1.0 ]\n",
      "1, 5, [Support =  0.2222222222222222 , Confidence =  1.0 , Lift =  1.5 ]\n",
      "4, 2, [Support =  0.2222222222222222 , Confidence =  1.0 , Lift =  1.2857142857142856 ]\n",
      "5, 2, [Support =  0.2222222222222222 , Confidence =  1.0 , Lift =  1.2857142857142856 ]\n",
      "1, 5, 2, [Support =  0.2222222222222222 , Confidence =  1.0 , Lift =  2.25 ]\n"
     ]
    }
   ],
   "source": [
    "#Displaying the results\n",
    "for x in result:\n",
    "    for j in x.items:\n",
    "        print(j, end=\", \")\n",
    "    print(\"[Support = \", x.support,\", Confidence = \",x.ordered_statistics[0].confidence,\", Lift = \",x.ordered_statistics[0].lift,\"]\")"
   ]
  },
  {
   "cell_type": "code",
   "execution_count": null,
   "metadata": {},
   "outputs": [],
   "source": []
  }
 ],
 "metadata": {
  "kernelspec": {
   "display_name": "Python 3",
   "language": "python",
   "name": "python3"
  },
  "language_info": {
   "codemirror_mode": {
    "name": "ipython",
    "version": 3
   },
   "file_extension": ".py",
   "mimetype": "text/x-python",
   "name": "python",
   "nbconvert_exporter": "python",
   "pygments_lexer": "ipython3",
   "version": "3.7.4"
  }
 },
 "nbformat": 4,
 "nbformat_minor": 2
}
