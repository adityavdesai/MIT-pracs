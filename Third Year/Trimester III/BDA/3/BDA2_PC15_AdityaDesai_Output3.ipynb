{
 "cells": [
  {
   "cell_type": "markdown",
   "metadata": {},
   "source": [
    "### Assignment 3\n",
    "## MongoDB connectivity \n",
    "Aditya Desai<br>\n",
    "PC-15<br>\n",
    "TY-CSE BDA-2<br>"
   ]
  },
  {
   "cell_type": "code",
   "execution_count": 1,
   "metadata": {
    "collapsed": true
   },
   "outputs": [],
   "source": [
    "from pymongo import MongoClient"
   ]
  },
  {
   "cell_type": "code",
   "execution_count": 2,
   "metadata": {
    "collapsed": true
   },
   "outputs": [],
   "source": [
    "#Client object\n",
    "client = MongoClient()\n",
    "\n",
    "#Mongo runs on port number 27017\n",
    "client = MongoClient('localhost',27017)\n"
   ]
  },
  {
   "cell_type": "code",
   "execution_count": 3,
   "metadata": {
    "collapsed": true
   },
   "outputs": [],
   "source": [
    "#Making a database\n",
    "db = client.Microsoft"
   ]
  },
  {
   "cell_type": "code",
   "execution_count": 4,
   "metadata": {
    "collapsed": true
   },
   "outputs": [],
   "source": [
    "#Creating a collection\n",
    "products = db.products"
   ]
  },
  {
   "cell_type": "code",
   "execution_count": 5,
   "metadata": {},
   "outputs": [
    {
     "output_type": "stream",
     "name": "stdout",
     "text": "Ports: [ObjectId('5eab0d21cb7f2cf07617bcb3'), ObjectId('5eab0d21cb7f2cf07617bcb4'), ObjectId('5eab0d21cb7f2cf07617bcb5'), ObjectId('5eab0d21cb7f2cf07617bcb6'), ObjectId('5eab0d21cb7f2cf07617bcb7')]\n"
    }
   ],
   "source": [
    "#Creating documents\n",
    "windows = {\n",
    "        'Name':'Windows 10',\n",
    "        'Type': 'System Software (OS)',\n",
    "        'Cost':8500\n",
    "         }\n",
    "office = {\n",
    "        'Name':'MS Office',\n",
    "        'Type': 'Application Software',\n",
    "        'Cost':5200\n",
    "         }\n",
    "outlook = {\n",
    "        'Name':'Outlook',\n",
    "        'Type': 'Mail Service',\n",
    "        'Cost':\"Free\"\n",
    "         }\n",
    "onedrive = {\n",
    "        'Name':'One Drive',\n",
    "        'Type': 'Cloud',\n",
    "        'Cost':2500\n",
    "         }\n",
    "azure = {\n",
    "        'Name':'Azure',\n",
    "        'Type': 'Cloud',\n",
    "        'Cost':9000\n",
    "         }\n",
    "#Adding the documents to the collections\n",
    "new_results = products.insert_many([windows,office,outlook,onedrive,azure])\n",
    "print(\"Ports: {}\".format(new_results.inserted_ids))"
   ]
  },
  {
   "cell_type": "code",
   "execution_count": 6,
   "metadata": {},
   "outputs": [
    {
     "output_type": "stream",
     "name": "stdout",
     "text": "{'_id': ObjectId('5eab0d21cb7f2cf07617bcb3'), 'Name': 'Windows 10', 'Type': 'System Software (OS)', 'Cost': 8500}\n{'_id': ObjectId('5eab0d21cb7f2cf07617bcb4'), 'Name': 'MS Office', 'Type': 'Application Software', 'Cost': 5200}\n{'_id': ObjectId('5eab0d21cb7f2cf07617bcb5'), 'Name': 'Outlook', 'Type': 'Mail Service', 'Cost': 'Free'}\n{'_id': ObjectId('5eab0d21cb7f2cf07617bcb6'), 'Name': 'One Drive', 'Type': 'Cloud', 'Cost': 2500}\n{'_id': ObjectId('5eab0d21cb7f2cf07617bcb7'), 'Name': 'Azure', 'Type': 'Cloud', 'Cost': 9000}\n"
    }
   ],
   "source": [
    "#Displaying the collections\n",
    "for x in products.find():\n",
    "    print(x)"
   ]
  },
  {
   "cell_type": "code",
   "execution_count": 7,
   "metadata": {},
   "outputs": [
    {
     "output_type": "execute_result",
     "data": {
      "text/plain": "{'n': 1, 'nModified': 1, 'ok': 1.0, 'updatedExisting': True}"
     },
     "metadata": {},
     "execution_count": 7
    }
   ],
   "source": [
    "#Updating an entry\n",
    "products.update({'Name':'Windows 10'},{'Name':'Windows 10','Type': 'System Software (OS)','Cost':7500})"
   ]
  },
  {
   "cell_type": "code",
   "execution_count": 8,
   "metadata": {},
   "outputs": [
    {
     "output_type": "stream",
     "name": "stdout",
     "text": "Update Cost: {'_id': ObjectId('5eab0d21cb7f2cf07617bcb3'), 'Name': 'Windows 10', 'Type': 'System Software (OS)', 'Cost': 7500}\n"
    }
   ],
   "source": [
    "print(\"Update Cost: {}\".format(products.find_one({'Name':'Windows 10'})))"
   ]
  },
  {
   "cell_type": "code",
   "execution_count": 9,
   "metadata": {},
   "outputs": [
    {
     "output_type": "stream",
     "name": "stdout",
     "text": "{'_id': ObjectId('5eab0d21cb7f2cf07617bcb3'), 'Name': 'Windows 10', 'Type': 'System Software (OS)', 'Cost': 7500}\n{'_id': ObjectId('5eab0d21cb7f2cf07617bcb4'), 'Name': 'MS Office', 'Type': 'Application Software', 'Cost': 5200}\n{'_id': ObjectId('5eab0d21cb7f2cf07617bcb6'), 'Name': 'One Drive', 'Type': 'Cloud', 'Cost': 2500}\n{'_id': ObjectId('5eab0d21cb7f2cf07617bcb7'), 'Name': 'Azure', 'Type': 'Cloud', 'Cost': 9000}\n"
    }
   ],
   "source": [
    "#Removing an element\n",
    "products.remove({\"Type\":\"Mail Service\"})\n",
    "#Displaying the collections\n",
    "for x in products.find():\n",
    "    print(x)"
   ]
  },
  {
   "cell_type": "code",
   "execution_count": 10,
   "metadata": {
    "collapsed": true
   },
   "outputs": [],
   "source": [
    "#Deleting the collection\n",
    "products.drop()"
   ]
  },
  {
   "cell_type": "code",
   "execution_count": 11,
   "metadata": {},
   "outputs": [
    {
     "output_type": "execute_result",
     "data": {
      "text/plain": "[]"
     },
     "metadata": {},
     "execution_count": 11
    }
   ],
   "source": [
    "#Checking the collections \n",
    "db.collection_names()"
   ]
  }
 ],
 "metadata": {
  "kernelspec": {
   "display_name": "Python 3.8.1 64-bit",
   "language": "python",
   "name": "python38164bitec4a824a6d40441da368b4b61c7855be"
  },
  "language_info": {
   "codemirror_mode": {
    "name": "ipython",
    "version": 3
   },
   "file_extension": ".py",
   "mimetype": "text/x-python",
   "name": "python",
   "nbconvert_exporter": "python",
   "pygments_lexer": "ipython3",
   "version": "3.8.2-final"
  }
 },
 "nbformat": 4,
 "nbformat_minor": 4
}