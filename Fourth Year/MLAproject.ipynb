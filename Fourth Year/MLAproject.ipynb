{
  "nbformat": 4,
  "nbformat_minor": 0,
  "metadata": {
    "colab": {
      "name": "MLAproject.ipynb",
      "provenance": [],
      "collapsed_sections": []
    },
    "kernelspec": {
      "name": "python3",
      "display_name": "Python 3"
    }
  },
  "cells": [
    {
      "cell_type": "markdown",
      "metadata": {
        "id": "3kIW_A2-62U3",
        "colab_type": "text"
      },
      "source": [
        "Name: Aditya Desai<br>\n",
        "Roll: PC15"
      ]
    },
    {
      "cell_type": "markdown",
      "metadata": {
        "id": "LMa-iuHgHOD6",
        "colab_type": "text"
      },
      "source": [
        "#Importing necesssary libraries"
      ]
    },
    {
      "cell_type": "code",
      "metadata": {
        "id": "hlUaodUmBE_t",
        "colab_type": "code",
        "colab": {}
      },
      "source": [
        "import numpy as np\n",
        "import pandas as pd\n",
        "import matplotlib.pyplot as plt\n",
        "import seaborn as sns\n",
        "%matplotlib inline"
      ],
      "execution_count": 0,
      "outputs": []
    },
    {
      "cell_type": "markdown",
      "metadata": {
        "id": "oSwVmIOFHbpC",
        "colab_type": "text"
      },
      "source": [
        "# Importing dataset into dataframe"
      ]
    },
    {
      "cell_type": "code",
      "metadata": {
        "id": "ICIkKyS-G3G5",
        "colab_type": "code",
        "outputId": "7aab128f-a6aa-446a-ab7d-d06dc18ba521",
        "colab": {
          "resources": {
            "http://localhost:8080/nbextensions/google.colab/files.js": {
              "data": "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",
              "ok": true,
              "headers": [
                [
                  "content-type",
                  "application/javascript"
                ]
              ],
              "status": 200,
              "status_text": ""
            }
          },
          "base_uri": "https://localhost:8080/",
          "height": 74
        }
      },
      "source": [
        "from google.colab import files\n",
        "from io import BytesIO\n",
        "\n",
        "uploaded = files.upload()"
      ],
      "execution_count": 0,
      "outputs": [
        {
          "output_type": "display_data",
          "data": {
            "text/html": [
              "\n",
              "     <input type=\"file\" id=\"files-9d761175-f196-4a1b-861f-042519b2f3c9\" name=\"files[]\" multiple disabled />\n",
              "     <output id=\"result-9d761175-f196-4a1b-861f-042519b2f3c9\">\n",
              "      Upload widget is only available when the cell has been executed in the\n",
              "      current browser session. Please rerun this cell to enable.\n",
              "      </output>\n",
              "      <script src=\"/nbextensions/google.colab/files.js\"></script> "
            ],
            "text/plain": [
              "<IPython.core.display.HTML object>"
            ]
          },
          "metadata": {
            "tags": []
          }
        },
        {
          "output_type": "stream",
          "text": [
            "Saving studentdata.csv to studentdata.csv\n"
          ],
          "name": "stdout"
        }
      ]
    },
    {
      "cell_type": "code",
      "metadata": {
        "id": "I10KcNAWPqTW",
        "colab_type": "code",
        "colab": {}
      },
      "source": [
        "dataset = pd.read_csv(BytesIO(uploaded['studentdata.csv']))"
      ],
      "execution_count": 0,
      "outputs": []
    },
    {
      "cell_type": "markdown",
      "metadata": {
        "id": "dT0xCHVNHgJJ",
        "colab_type": "text"
      },
      "source": [
        "#Preprocessing dataset using Imputer function"
      ]
    },
    {
      "cell_type": "code",
      "metadata": {
        "id": "tfLVlxybHG_V",
        "colab_type": "code",
        "outputId": "ea2db06b-4414-4d7f-b336-f135b723e90a",
        "colab": {
          "base_uri": "https://localhost:8080/",
          "height": 445
        }
      },
      "source": [
        "from sklearn.impute import SimpleImputer\n",
        "\n",
        "# Filling mising value with most frequent value\n",
        "imp = SimpleImputer(missing_values='NaN', strategy='most_frequent')\n",
        "dataset = pd.DataFrame(imp.fit_transform(dataset), columns=dataset.columns)\n",
        "dataset.head()"
      ],
      "execution_count": 0,
      "outputs": [
        {
          "output_type": "execute_result",
          "data": {
            "text/html": [
              "<div>\n",
              "<style scoped>\n",
              "    .dataframe tbody tr th:only-of-type {\n",
              "        vertical-align: middle;\n",
              "    }\n",
              "\n",
              "    .dataframe tbody tr th {\n",
              "        vertical-align: top;\n",
              "    }\n",
              "\n",
              "    .dataframe thead th {\n",
              "        text-align: right;\n",
              "    }\n",
              "</style>\n",
              "<table border=\"1\" class=\"dataframe\">\n",
              "  <thead>\n",
              "    <tr style=\"text-align: right;\">\n",
              "      <th></th>\n",
              "      <th>Acedamic percentage in Operating Systems</th>\n",
              "      <th>percentage in Algorithms</th>\n",
              "      <th>Percentage in Programming Concepts</th>\n",
              "      <th>Percentage in Software Engineering</th>\n",
              "      <th>Percentage in Computer Networks</th>\n",
              "      <th>Percentage in Electronics Subjects</th>\n",
              "      <th>Percentage in Computer Architecture</th>\n",
              "      <th>Percentage in Mathematics</th>\n",
              "      <th>Percentage in Communication skills</th>\n",
              "      <th>Hours working per day</th>\n",
              "      <th>Logical quotient rating</th>\n",
              "      <th>hackathons</th>\n",
              "      <th>coding skills rating</th>\n",
              "      <th>public speaking points</th>\n",
              "      <th>can work long time before system?</th>\n",
              "      <th>self-learning capability?</th>\n",
              "      <th>Extra-courses did</th>\n",
              "      <th>certifications</th>\n",
              "      <th>workshops</th>\n",
              "      <th>talenttests taken?</th>\n",
              "      <th>olympiads</th>\n",
              "      <th>reading and writing skills</th>\n",
              "      <th>memory capability score</th>\n",
              "      <th>Interested subjects</th>\n",
              "      <th>interested career area</th>\n",
              "      <th>Job/Higher Studies?</th>\n",
              "      <th>Type of company want to settle in?</th>\n",
              "      <th>Taken inputs from seniors or elders</th>\n",
              "      <th>interested in games</th>\n",
              "      <th>Interested Type of Books</th>\n",
              "      <th>Salary Range Expected</th>\n",
              "      <th>In a Realtionship?</th>\n",
              "      <th>Gentle or Tuff behaviour?</th>\n",
              "      <th>Management or Technical</th>\n",
              "      <th>Salary/work</th>\n",
              "      <th>hard/smart worker</th>\n",
              "      <th>worked in teams ever?</th>\n",
              "      <th>Introvert</th>\n",
              "      <th>Suggested Job Role</th>\n",
              "    </tr>\n",
              "  </thead>\n",
              "  <tbody>\n",
              "    <tr>\n",
              "      <th>0</th>\n",
              "      <td>69</td>\n",
              "      <td>63</td>\n",
              "      <td>78</td>\n",
              "      <td>87</td>\n",
              "      <td>94</td>\n",
              "      <td>94</td>\n",
              "      <td>87</td>\n",
              "      <td>84</td>\n",
              "      <td>61</td>\n",
              "      <td>9</td>\n",
              "      <td>4</td>\n",
              "      <td>0</td>\n",
              "      <td>4</td>\n",
              "      <td>8</td>\n",
              "      <td>yes</td>\n",
              "      <td>yes</td>\n",
              "      <td>yes</td>\n",
              "      <td>shell programming</td>\n",
              "      <td>cloud computing</td>\n",
              "      <td>no</td>\n",
              "      <td>yes</td>\n",
              "      <td>excellent</td>\n",
              "      <td>excellent</td>\n",
              "      <td>cloud computing</td>\n",
              "      <td>system developer</td>\n",
              "      <td>higherstudies</td>\n",
              "      <td>Web Services</td>\n",
              "      <td>no</td>\n",
              "      <td>no</td>\n",
              "      <td>Prayer books</td>\n",
              "      <td>salary</td>\n",
              "      <td>no</td>\n",
              "      <td>stubborn</td>\n",
              "      <td>Management</td>\n",
              "      <td>salary</td>\n",
              "      <td>hard worker</td>\n",
              "      <td>yes</td>\n",
              "      <td>no</td>\n",
              "      <td>Database Developer</td>\n",
              "    </tr>\n",
              "    <tr>\n",
              "      <th>1</th>\n",
              "      <td>78</td>\n",
              "      <td>62</td>\n",
              "      <td>73</td>\n",
              "      <td>60</td>\n",
              "      <td>71</td>\n",
              "      <td>70</td>\n",
              "      <td>73</td>\n",
              "      <td>84</td>\n",
              "      <td>91</td>\n",
              "      <td>12</td>\n",
              "      <td>7</td>\n",
              "      <td>1</td>\n",
              "      <td>2</td>\n",
              "      <td>3</td>\n",
              "      <td>yes</td>\n",
              "      <td>no</td>\n",
              "      <td>yes</td>\n",
              "      <td>machine learning</td>\n",
              "      <td>database security</td>\n",
              "      <td>no</td>\n",
              "      <td>no</td>\n",
              "      <td>poor</td>\n",
              "      <td>medium</td>\n",
              "      <td>networks</td>\n",
              "      <td>Business process analyst</td>\n",
              "      <td>job</td>\n",
              "      <td>SAaS services</td>\n",
              "      <td>yes</td>\n",
              "      <td>yes</td>\n",
              "      <td>Childrens</td>\n",
              "      <td>salary</td>\n",
              "      <td>yes</td>\n",
              "      <td>gentle</td>\n",
              "      <td>Technical</td>\n",
              "      <td>salary</td>\n",
              "      <td>hard worker</td>\n",
              "      <td>no</td>\n",
              "      <td>yes</td>\n",
              "      <td>Portal Administrator</td>\n",
              "    </tr>\n",
              "    <tr>\n",
              "      <th>2</th>\n",
              "      <td>71</td>\n",
              "      <td>86</td>\n",
              "      <td>91</td>\n",
              "      <td>87</td>\n",
              "      <td>61</td>\n",
              "      <td>81</td>\n",
              "      <td>72</td>\n",
              "      <td>72</td>\n",
              "      <td>94</td>\n",
              "      <td>11</td>\n",
              "      <td>1</td>\n",
              "      <td>4</td>\n",
              "      <td>1</td>\n",
              "      <td>3</td>\n",
              "      <td>yes</td>\n",
              "      <td>no</td>\n",
              "      <td>yes</td>\n",
              "      <td>app development</td>\n",
              "      <td>web technologies</td>\n",
              "      <td>no</td>\n",
              "      <td>yes</td>\n",
              "      <td>poor</td>\n",
              "      <td>excellent</td>\n",
              "      <td>hacking</td>\n",
              "      <td>developer</td>\n",
              "      <td>higherstudies</td>\n",
              "      <td>Sales and Marketing</td>\n",
              "      <td>yes</td>\n",
              "      <td>yes</td>\n",
              "      <td>Travel</td>\n",
              "      <td>Work</td>\n",
              "      <td>no</td>\n",
              "      <td>stubborn</td>\n",
              "      <td>Management</td>\n",
              "      <td>work</td>\n",
              "      <td>hard worker</td>\n",
              "      <td>no</td>\n",
              "      <td>yes</td>\n",
              "      <td>Portal Administrator</td>\n",
              "    </tr>\n",
              "    <tr>\n",
              "      <th>3</th>\n",
              "      <td>76</td>\n",
              "      <td>87</td>\n",
              "      <td>60</td>\n",
              "      <td>84</td>\n",
              "      <td>89</td>\n",
              "      <td>73</td>\n",
              "      <td>62</td>\n",
              "      <td>88</td>\n",
              "      <td>69</td>\n",
              "      <td>7</td>\n",
              "      <td>1</td>\n",
              "      <td>1</td>\n",
              "      <td>2</td>\n",
              "      <td>5</td>\n",
              "      <td>no</td>\n",
              "      <td>yes</td>\n",
              "      <td>no</td>\n",
              "      <td>python</td>\n",
              "      <td>data science</td>\n",
              "      <td>yes</td>\n",
              "      <td>no</td>\n",
              "      <td>medium</td>\n",
              "      <td>excellent</td>\n",
              "      <td>networks</td>\n",
              "      <td>testing</td>\n",
              "      <td>higherstudies</td>\n",
              "      <td>Testing and Maintainance Services</td>\n",
              "      <td>no</td>\n",
              "      <td>no</td>\n",
              "      <td>Romance</td>\n",
              "      <td>Work</td>\n",
              "      <td>yes</td>\n",
              "      <td>gentle</td>\n",
              "      <td>Management</td>\n",
              "      <td>work</td>\n",
              "      <td>smart worker</td>\n",
              "      <td>yes</td>\n",
              "      <td>yes</td>\n",
              "      <td>Systems Security Administrator</td>\n",
              "    </tr>\n",
              "    <tr>\n",
              "      <th>4</th>\n",
              "      <td>92</td>\n",
              "      <td>62</td>\n",
              "      <td>90</td>\n",
              "      <td>67</td>\n",
              "      <td>71</td>\n",
              "      <td>89</td>\n",
              "      <td>73</td>\n",
              "      <td>71</td>\n",
              "      <td>73</td>\n",
              "      <td>4</td>\n",
              "      <td>5</td>\n",
              "      <td>4</td>\n",
              "      <td>6</td>\n",
              "      <td>3</td>\n",
              "      <td>no</td>\n",
              "      <td>no</td>\n",
              "      <td>no</td>\n",
              "      <td>app development</td>\n",
              "      <td>cloud computing</td>\n",
              "      <td>no</td>\n",
              "      <td>no</td>\n",
              "      <td>poor</td>\n",
              "      <td>excellent</td>\n",
              "      <td>Computer Architecture</td>\n",
              "      <td>testing</td>\n",
              "      <td>higherstudies</td>\n",
              "      <td>product development</td>\n",
              "      <td>no</td>\n",
              "      <td>yes</td>\n",
              "      <td>Cookbooks</td>\n",
              "      <td>salary</td>\n",
              "      <td>no</td>\n",
              "      <td>stubborn</td>\n",
              "      <td>Management</td>\n",
              "      <td>work</td>\n",
              "      <td>hard worker</td>\n",
              "      <td>yes</td>\n",
              "      <td>yes</td>\n",
              "      <td>Business Systems Analyst</td>\n",
              "    </tr>\n",
              "  </tbody>\n",
              "</table>\n",
              "</div>"
            ],
            "text/plain": [
              "  Acedamic percentage in Operating Systems  ...              Suggested Job Role\n",
              "0                                       69  ...              Database Developer\n",
              "1                                       78  ...            Portal Administrator\n",
              "2                                       71  ...            Portal Administrator\n",
              "3                                       76  ...  Systems Security Administrator\n",
              "4                                       92  ...        Business Systems Analyst\n",
              "\n",
              "[5 rows x 39 columns]"
            ]
          },
          "metadata": {
            "tags": []
          },
          "execution_count": 4
        }
      ]
    },
    {
      "cell_type": "markdown",
      "metadata": {
        "id": "WjZQxzhuIt4f",
        "colab_type": "text"
      },
      "source": [
        "\n",
        "\n",
        "\n",
        "\n",
        "\n",
        "\n",
        "\n",
        "\n",
        "\n",
        "# Feature Selection\n",
        "Removing useless dimensions"
      ]
    },
    {
      "cell_type": "code",
      "metadata": {
        "id": "Z4WW1qkmIK2v",
        "colab_type": "code",
        "outputId": "0d4a7668-ad03-43c1-f99a-fc673a07bb67",
        "colab": {
          "base_uri": "https://localhost:8080/",
          "height": 612
        }
      },
      "source": [
        "drop_data = [\n",
        "    'can work long time before system?', \n",
        "    'Extra-courses did', \n",
        "    'talenttests taken?', \n",
        "    'olympiads',\n",
        "    'Salary/work',\n",
        "    'Introvert',\n",
        "    'In a Realtionship?',\n",
        "    'Gentle or Tuff behaviour?',\n",
        "    'Salary Range Expected',\n",
        "    'interested in games',\n",
        "    'self-learning capability?'\n",
        "]\n",
        "dataset = dataset.drop(drop_data, axis=1)\n",
        "dataset.info()"
      ],
      "execution_count": 0,
      "outputs": [
        {
          "output_type": "stream",
          "text": [
            "<class 'pandas.core.frame.DataFrame'>\n",
            "RangeIndex: 20000 entries, 0 to 19999\n",
            "Data columns (total 28 columns):\n",
            " #   Column                                    Non-Null Count  Dtype \n",
            "---  ------                                    --------------  ----- \n",
            " 0   Acedamic percentage in Operating Systems  20000 non-null  object\n",
            " 1   percentage in Algorithms                  20000 non-null  object\n",
            " 2   Percentage in Programming Concepts        20000 non-null  object\n",
            " 3   Percentage in Software Engineering        20000 non-null  object\n",
            " 4   Percentage in Computer Networks           20000 non-null  object\n",
            " 5   Percentage in Electronics Subjects        20000 non-null  object\n",
            " 6   Percentage in Computer Architecture       20000 non-null  object\n",
            " 7   Percentage in Mathematics                 20000 non-null  object\n",
            " 8   Percentage in Communication skills        20000 non-null  object\n",
            " 9   Hours working per day                     20000 non-null  object\n",
            " 10  Logical quotient rating                   20000 non-null  object\n",
            " 11  hackathons                                20000 non-null  object\n",
            " 12  coding skills rating                      20000 non-null  object\n",
            " 13  public speaking points                    20000 non-null  object\n",
            " 14  certifications                            20000 non-null  object\n",
            " 15  workshops                                 20000 non-null  object\n",
            " 16  reading and writing skills                20000 non-null  object\n",
            " 17  memory capability score                   20000 non-null  object\n",
            " 18  Interested subjects                       20000 non-null  object\n",
            " 19  interested career area                    20000 non-null  object\n",
            " 20  Job/Higher Studies?                       20000 non-null  object\n",
            " 21  Type of company want to settle in?        20000 non-null  object\n",
            " 22  Taken inputs from seniors or elders       20000 non-null  object\n",
            " 23  Interested Type of Books                  20000 non-null  object\n",
            " 24  Management or Technical                   20000 non-null  object\n",
            " 25  hard/smart worker                         20000 non-null  object\n",
            " 26  worked in teams ever?                     20000 non-null  object\n",
            " 27  Suggested Job Role                        20000 non-null  object\n",
            "dtypes: object(28)\n",
            "memory usage: 4.3+ MB\n"
          ],
          "name": "stdout"
        }
      ]
    },
    {
      "cell_type": "markdown",
      "metadata": {
        "id": "UIfSeKlsJMtV",
        "colab_type": "text"
      },
      "source": [
        "#Some dastaset info"
      ]
    },
    {
      "cell_type": "code",
      "metadata": {
        "id": "f-_rKxQlI7g7",
        "colab_type": "code",
        "outputId": "0b57d1e7-5e56-431e-8bc2-56ed96269a20",
        "colab": {
          "base_uri": "https://localhost:8080/",
          "height": 346
        }
      },
      "source": [
        "print(f'Dimensions of dataset : {dataset.shape}', end='\\n\\n')\n",
        "\n",
        "dataset.describe()"
      ],
      "execution_count": 0,
      "outputs": [
        {
          "output_type": "stream",
          "text": [
            "Dimensions of dataset : (20000, 28)\n",
            "\n"
          ],
          "name": "stdout"
        },
        {
          "output_type": "execute_result",
          "data": {
            "text/html": [
              "<div>\n",
              "<style scoped>\n",
              "    .dataframe tbody tr th:only-of-type {\n",
              "        vertical-align: middle;\n",
              "    }\n",
              "\n",
              "    .dataframe tbody tr th {\n",
              "        vertical-align: top;\n",
              "    }\n",
              "\n",
              "    .dataframe thead th {\n",
              "        text-align: right;\n",
              "    }\n",
              "</style>\n",
              "<table border=\"1\" class=\"dataframe\">\n",
              "  <thead>\n",
              "    <tr style=\"text-align: right;\">\n",
              "      <th></th>\n",
              "      <th>Acedamic percentage in Operating Systems</th>\n",
              "      <th>percentage in Algorithms</th>\n",
              "      <th>Percentage in Programming Concepts</th>\n",
              "      <th>Percentage in Software Engineering</th>\n",
              "      <th>Percentage in Computer Networks</th>\n",
              "      <th>Percentage in Electronics Subjects</th>\n",
              "      <th>Percentage in Computer Architecture</th>\n",
              "      <th>Percentage in Mathematics</th>\n",
              "      <th>Percentage in Communication skills</th>\n",
              "      <th>Hours working per day</th>\n",
              "      <th>Logical quotient rating</th>\n",
              "      <th>hackathons</th>\n",
              "      <th>coding skills rating</th>\n",
              "      <th>public speaking points</th>\n",
              "      <th>certifications</th>\n",
              "      <th>workshops</th>\n",
              "      <th>reading and writing skills</th>\n",
              "      <th>memory capability score</th>\n",
              "      <th>Interested subjects</th>\n",
              "      <th>interested career area</th>\n",
              "      <th>Job/Higher Studies?</th>\n",
              "      <th>Type of company want to settle in?</th>\n",
              "      <th>Taken inputs from seniors or elders</th>\n",
              "      <th>Interested Type of Books</th>\n",
              "      <th>Management or Technical</th>\n",
              "      <th>hard/smart worker</th>\n",
              "      <th>worked in teams ever?</th>\n",
              "      <th>Suggested Job Role</th>\n",
              "    </tr>\n",
              "  </thead>\n",
              "  <tbody>\n",
              "    <tr>\n",
              "      <th>count</th>\n",
              "      <td>20000</td>\n",
              "      <td>20000</td>\n",
              "      <td>20000</td>\n",
              "      <td>20000</td>\n",
              "      <td>20000</td>\n",
              "      <td>20000</td>\n",
              "      <td>20000</td>\n",
              "      <td>20000</td>\n",
              "      <td>20000</td>\n",
              "      <td>20000</td>\n",
              "      <td>20000</td>\n",
              "      <td>20000</td>\n",
              "      <td>20000</td>\n",
              "      <td>20000</td>\n",
              "      <td>20000</td>\n",
              "      <td>20000</td>\n",
              "      <td>20000</td>\n",
              "      <td>20000</td>\n",
              "      <td>20000</td>\n",
              "      <td>20000</td>\n",
              "      <td>20000</td>\n",
              "      <td>20000</td>\n",
              "      <td>20000</td>\n",
              "      <td>20000</td>\n",
              "      <td>20000</td>\n",
              "      <td>20000</td>\n",
              "      <td>20000</td>\n",
              "      <td>20000</td>\n",
              "    </tr>\n",
              "    <tr>\n",
              "      <th>unique</th>\n",
              "      <td>35</td>\n",
              "      <td>35</td>\n",
              "      <td>35</td>\n",
              "      <td>35</td>\n",
              "      <td>35</td>\n",
              "      <td>35</td>\n",
              "      <td>35</td>\n",
              "      <td>35</td>\n",
              "      <td>35</td>\n",
              "      <td>9</td>\n",
              "      <td>9</td>\n",
              "      <td>7</td>\n",
              "      <td>9</td>\n",
              "      <td>9</td>\n",
              "      <td>9</td>\n",
              "      <td>8</td>\n",
              "      <td>3</td>\n",
              "      <td>3</td>\n",
              "      <td>10</td>\n",
              "      <td>6</td>\n",
              "      <td>2</td>\n",
              "      <td>10</td>\n",
              "      <td>2</td>\n",
              "      <td>31</td>\n",
              "      <td>2</td>\n",
              "      <td>2</td>\n",
              "      <td>2</td>\n",
              "      <td>34</td>\n",
              "    </tr>\n",
              "    <tr>\n",
              "      <th>top</th>\n",
              "      <td>86</td>\n",
              "      <td>61</td>\n",
              "      <td>77</td>\n",
              "      <td>84</td>\n",
              "      <td>64</td>\n",
              "      <td>61</td>\n",
              "      <td>86</td>\n",
              "      <td>68</td>\n",
              "      <td>67</td>\n",
              "      <td>5</td>\n",
              "      <td>5</td>\n",
              "      <td>2</td>\n",
              "      <td>2</td>\n",
              "      <td>7</td>\n",
              "      <td>r programming</td>\n",
              "      <td>web technologies</td>\n",
              "      <td>excellent</td>\n",
              "      <td>poor</td>\n",
              "      <td>networks</td>\n",
              "      <td>testing</td>\n",
              "      <td>higherstudies</td>\n",
              "      <td>BPA</td>\n",
              "      <td>yes</td>\n",
              "      <td>Guide</td>\n",
              "      <td>Technical</td>\n",
              "      <td>smart worker</td>\n",
              "      <td>no</td>\n",
              "      <td>Network Security Administrator</td>\n",
              "    </tr>\n",
              "    <tr>\n",
              "      <th>freq</th>\n",
              "      <td>638</td>\n",
              "      <td>627</td>\n",
              "      <td>616</td>\n",
              "      <td>620</td>\n",
              "      <td>639</td>\n",
              "      <td>603</td>\n",
              "      <td>627</td>\n",
              "      <td>635</td>\n",
              "      <td>617</td>\n",
              "      <td>2273</td>\n",
              "      <td>2275</td>\n",
              "      <td>2918</td>\n",
              "      <td>2298</td>\n",
              "      <td>2268</td>\n",
              "      <td>2275</td>\n",
              "      <td>2586</td>\n",
              "      <td>6696</td>\n",
              "      <td>6677</td>\n",
              "      <td>2096</td>\n",
              "      <td>3354</td>\n",
              "      <td>10071</td>\n",
              "      <td>2073</td>\n",
              "      <td>10036</td>\n",
              "      <td>1172</td>\n",
              "      <td>10047</td>\n",
              "      <td>10047</td>\n",
              "      <td>10054</td>\n",
              "      <td>1112</td>\n",
              "    </tr>\n",
              "  </tbody>\n",
              "</table>\n",
              "</div>"
            ],
            "text/plain": [
              "        Acedamic percentage in Operating Systems  ...              Suggested Job Role\n",
              "count                                      20000  ...                           20000\n",
              "unique                                        35  ...                              34\n",
              "top                                           86  ...  Network Security Administrator\n",
              "freq                                         638  ...                            1112\n",
              "\n",
              "[4 rows x 28 columns]"
            ]
          },
          "metadata": {
            "tags": []
          },
          "execution_count": 6
        }
      ]
    },
    {
      "cell_type": "code",
      "metadata": {
        "id": "NCnsIhfMK9Kw",
        "colab_type": "code",
        "outputId": "adb809ee-c41b-4ea0-a4e0-62ec135f71e9",
        "colab": {
          "base_uri": "https://localhost:8080/",
          "height": 646
        }
      },
      "source": [
        "print(dataset.groupby('Suggested Job Role').size(), end='\\n\\n')"
      ],
      "execution_count": 0,
      "outputs": [
        {
          "output_type": "stream",
          "text": [
            "Suggested Job Role\n",
            "Applications Developer                        551\n",
            "Business Intelligence Analyst                 540\n",
            "Business Systems Analyst                      582\n",
            "CRM Business Analyst                          584\n",
            "CRM Technical Developer                       567\n",
            "Data Architect                                564\n",
            "Database Administrator                        593\n",
            "Database Developer                            581\n",
            "Database Manager                              570\n",
            "Design & UX                                   588\n",
            "E-Commerce Analyst                            546\n",
            "Information Security Analyst                  543\n",
            "Information Technology Auditor                558\n",
            "Information Technology Manager                591\n",
            "Mobile Applications Developer                 538\n",
            "Network Engineer                              621\n",
            "Network Security Administrator               1112\n",
            "Network Security Engineer                     630\n",
            "Portal Administrator                          593\n",
            "Programmer Analyst                            529\n",
            "Project Manager                               602\n",
            "Quality Assurance Associate                   565\n",
            "Software Developer                            587\n",
            "Software Engineer                             590\n",
            "Software Quality Assurance (QA) / Testing     571\n",
            "Software Systems Engineer                     575\n",
            "Solutions Architect                           578\n",
            "Systems Analyst                               550\n",
            "Systems Security Administrator                562\n",
            "Technical Engineer                            557\n",
            "Technical Services/Help Desk/Tech Support     558\n",
            "Technical Support                             565\n",
            "UX Designer                                   589\n",
            "Web Developer                                 570\n",
            "dtype: int64\n",
            "\n"
          ],
          "name": "stdout"
        }
      ]
    },
    {
      "cell_type": "code",
      "metadata": {
        "id": "JQlLnbYRJ7aO",
        "colab_type": "code",
        "outputId": "7dd71927-733b-40ff-cc9c-613e10af3b2c",
        "colab": {
          "base_uri": "https://localhost:8080/",
          "height": 294
        }
      },
      "source": [
        "plt.figure(figsize=(len(set(dataset['Suggested Job Role'])), 7))\n",
        "sns.countplot(dataset['Suggested Job Role'], label='Count')"
      ],
      "execution_count": 0,
      "outputs": [
        {
          "output_type": "execute_result",
          "data": {
            "text/plain": [
              "<matplotlib.axes._subplots.AxesSubplot at 0x7fbdf958ab70>"
            ]
          },
          "metadata": {
            "tags": []
          },
          "execution_count": 8
        },
        {
          "output_type": "display_data",
          "data": {
            "image/png": "[encoded data removed]",
            "text/plain": [
              "<Figure size 2448x504 with 1 Axes>"
            ]
          },
          "metadata": {
            "tags": [],
            "needs_background": "light"
          }
        }
      ]
    },
    {
      "cell_type": "code",
      "metadata": {
        "id": "0YhDee4wMnqr",
        "colab_type": "code",
        "outputId": "e52ed579-a7ab-468e-92ba-bd6a68053a5f",
        "colab": {
          "base_uri": "https://localhost:8080/",
          "height": 445
        }
      },
      "source": [
        "dataset.head()"
      ],
      "execution_count": 0,
      "outputs": [
        {
          "output_type": "execute_result",
          "data": {
            "text/html": [
              "<div>\n",
              "<style scoped>\n",
              "    .dataframe tbody tr th:only-of-type {\n",
              "        vertical-align: middle;\n",
              "    }\n",
              "\n",
              "    .dataframe tbody tr th {\n",
              "        vertical-align: top;\n",
              "    }\n",
              "\n",
              "    .dataframe thead th {\n",
              "        text-align: right;\n",
              "    }\n",
              "</style>\n",
              "<table border=\"1\" class=\"dataframe\">\n",
              "  <thead>\n",
              "    <tr style=\"text-align: right;\">\n",
              "      <th></th>\n",
              "      <th>Acedamic percentage in Operating Systems</th>\n",
              "      <th>percentage in Algorithms</th>\n",
              "      <th>Percentage in Programming Concepts</th>\n",
              "      <th>Percentage in Software Engineering</th>\n",
              "      <th>Percentage in Computer Networks</th>\n",
              "      <th>Percentage in Electronics Subjects</th>\n",
              "      <th>Percentage in Computer Architecture</th>\n",
              "      <th>Percentage in Mathematics</th>\n",
              "      <th>Percentage in Communication skills</th>\n",
              "      <th>Hours working per day</th>\n",
              "      <th>Logical quotient rating</th>\n",
              "      <th>hackathons</th>\n",
              "      <th>coding skills rating</th>\n",
              "      <th>public speaking points</th>\n",
              "      <th>certifications</th>\n",
              "      <th>workshops</th>\n",
              "      <th>reading and writing skills</th>\n",
              "      <th>memory capability score</th>\n",
              "      <th>Interested subjects</th>\n",
              "      <th>interested career area</th>\n",
              "      <th>Job/Higher Studies?</th>\n",
              "      <th>Type of company want to settle in?</th>\n",
              "      <th>Taken inputs from seniors or elders</th>\n",
              "      <th>Interested Type of Books</th>\n",
              "      <th>Management or Technical</th>\n",
              "      <th>hard/smart worker</th>\n",
              "      <th>worked in teams ever?</th>\n",
              "      <th>Suggested Job Role</th>\n",
              "    </tr>\n",
              "  </thead>\n",
              "  <tbody>\n",
              "    <tr>\n",
              "      <th>0</th>\n",
              "      <td>69</td>\n",
              "      <td>63</td>\n",
              "      <td>78</td>\n",
              "      <td>87</td>\n",
              "      <td>94</td>\n",
              "      <td>94</td>\n",
              "      <td>87</td>\n",
              "      <td>84</td>\n",
              "      <td>61</td>\n",
              "      <td>9</td>\n",
              "      <td>4</td>\n",
              "      <td>0</td>\n",
              "      <td>4</td>\n",
              "      <td>8</td>\n",
              "      <td>shell programming</td>\n",
              "      <td>cloud computing</td>\n",
              "      <td>excellent</td>\n",
              "      <td>excellent</td>\n",
              "      <td>cloud computing</td>\n",
              "      <td>system developer</td>\n",
              "      <td>higherstudies</td>\n",
              "      <td>Web Services</td>\n",
              "      <td>no</td>\n",
              "      <td>Prayer books</td>\n",
              "      <td>Management</td>\n",
              "      <td>hard worker</td>\n",
              "      <td>yes</td>\n",
              "      <td>Database Developer</td>\n",
              "    </tr>\n",
              "    <tr>\n",
              "      <th>1</th>\n",
              "      <td>78</td>\n",
              "      <td>62</td>\n",
              "      <td>73</td>\n",
              "      <td>60</td>\n",
              "      <td>71</td>\n",
              "      <td>70</td>\n",
              "      <td>73</td>\n",
              "      <td>84</td>\n",
              "      <td>91</td>\n",
              "      <td>12</td>\n",
              "      <td>7</td>\n",
              "      <td>1</td>\n",
              "      <td>2</td>\n",
              "      <td>3</td>\n",
              "      <td>machine learning</td>\n",
              "      <td>database security</td>\n",
              "      <td>poor</td>\n",
              "      <td>medium</td>\n",
              "      <td>networks</td>\n",
              "      <td>Business process analyst</td>\n",
              "      <td>job</td>\n",
              "      <td>SAaS services</td>\n",
              "      <td>yes</td>\n",
              "      <td>Childrens</td>\n",
              "      <td>Technical</td>\n",
              "      <td>hard worker</td>\n",
              "      <td>no</td>\n",
              "      <td>Portal Administrator</td>\n",
              "    </tr>\n",
              "    <tr>\n",
              "      <th>2</th>\n",
              "      <td>71</td>\n",
              "      <td>86</td>\n",
              "      <td>91</td>\n",
              "      <td>87</td>\n",
              "      <td>61</td>\n",
              "      <td>81</td>\n",
              "      <td>72</td>\n",
              "      <td>72</td>\n",
              "      <td>94</td>\n",
              "      <td>11</td>\n",
              "      <td>1</td>\n",
              "      <td>4</td>\n",
              "      <td>1</td>\n",
              "      <td>3</td>\n",
              "      <td>app development</td>\n",
              "      <td>web technologies</td>\n",
              "      <td>poor</td>\n",
              "      <td>excellent</td>\n",
              "      <td>hacking</td>\n",
              "      <td>developer</td>\n",
              "      <td>higherstudies</td>\n",
              "      <td>Sales and Marketing</td>\n",
              "      <td>yes</td>\n",
              "      <td>Travel</td>\n",
              "      <td>Management</td>\n",
              "      <td>hard worker</td>\n",
              "      <td>no</td>\n",
              "      <td>Portal Administrator</td>\n",
              "    </tr>\n",
              "    <tr>\n",
              "      <th>3</th>\n",
              "      <td>76</td>\n",
              "      <td>87</td>\n",
              "      <td>60</td>\n",
              "      <td>84</td>\n",
              "      <td>89</td>\n",
              "      <td>73</td>\n",
              "      <td>62</td>\n",
              "      <td>88</td>\n",
              "      <td>69</td>\n",
              "      <td>7</td>\n",
              "      <td>1</td>\n",
              "      <td>1</td>\n",
              "      <td>2</td>\n",
              "      <td>5</td>\n",
              "      <td>python</td>\n",
              "      <td>data science</td>\n",
              "      <td>medium</td>\n",
              "      <td>excellent</td>\n",
              "      <td>networks</td>\n",
              "      <td>testing</td>\n",
              "      <td>higherstudies</td>\n",
              "      <td>Testing and Maintainance Services</td>\n",
              "      <td>no</td>\n",
              "      <td>Romance</td>\n",
              "      <td>Management</td>\n",
              "      <td>smart worker</td>\n",
              "      <td>yes</td>\n",
              "      <td>Systems Security Administrator</td>\n",
              "    </tr>\n",
              "    <tr>\n",
              "      <th>4</th>\n",
              "      <td>92</td>\n",
              "      <td>62</td>\n",
              "      <td>90</td>\n",
              "      <td>67</td>\n",
              "      <td>71</td>\n",
              "      <td>89</td>\n",
              "      <td>73</td>\n",
              "      <td>71</td>\n",
              "      <td>73</td>\n",
              "      <td>4</td>\n",
              "      <td>5</td>\n",
              "      <td>4</td>\n",
              "      <td>6</td>\n",
              "      <td>3</td>\n",
              "      <td>app development</td>\n",
              "      <td>cloud computing</td>\n",
              "      <td>poor</td>\n",
              "      <td>excellent</td>\n",
              "      <td>Computer Architecture</td>\n",
              "      <td>testing</td>\n",
              "      <td>higherstudies</td>\n",
              "      <td>product development</td>\n",
              "      <td>no</td>\n",
              "      <td>Cookbooks</td>\n",
              "      <td>Management</td>\n",
              "      <td>hard worker</td>\n",
              "      <td>yes</td>\n",
              "      <td>Business Systems Analyst</td>\n",
              "    </tr>\n",
              "  </tbody>\n",
              "</table>\n",
              "</div>"
            ],
            "text/plain": [
              "  Acedamic percentage in Operating Systems  ...              Suggested Job Role\n",
              "0                                       69  ...              Database Developer\n",
              "1                                       78  ...            Portal Administrator\n",
              "2                                       71  ...            Portal Administrator\n",
              "3                                       76  ...  Systems Security Administrator\n",
              "4                                       92  ...        Business Systems Analyst\n",
              "\n",
              "[5 rows x 28 columns]"
            ]
          },
          "metadata": {
            "tags": []
          },
          "execution_count": 9
        }
      ]
    },
    {
      "cell_type": "markdown",
      "metadata": {
        "id": "d58cVmqUPolT",
        "colab_type": "text"
      },
      "source": [
        "# Classification techniques"
      ]
    },
    {
      "cell_type": "markdown",
      "metadata": {
        "id": "tWFrr0OBPtqg",
        "colab_type": "text"
      },
      "source": [
        "Encoding categorical data using OneHotEncoding strategy"
      ]
    },
    {
      "cell_type": "code",
      "metadata": {
        "id": "CWCeHJ4rQUYp",
        "colab_type": "code",
        "colab": {}
      },
      "source": [
        "categorical = [\n",
        "               'certifications',\n",
        "               'workshops',\n",
        "               'reading and writing skills', \n",
        "               'memory capability score',\n",
        "               'Interested subjects',\n",
        "               'interested career area ', \n",
        "               'Job/Higher Studies?',\n",
        "               'Type of company want to settle in?',\n",
        "               'Taken inputs from seniors or elders', \n",
        "               'Interested Type of Books',\n",
        "               'Management or Technical',\n",
        "               'hard/smart worker', \n",
        "               'worked in teams ever?']"
      ],
      "execution_count": 0,
      "outputs": []
    },
    {
      "cell_type": "code",
      "metadata": {
        "id": "ozJ-mLM3NxCK",
        "colab_type": "code",
        "colab": {}
      },
      "source": [
        "onehot_data = pd.get_dummies(dataset, columns=categorical, drop_first=True)"
      ],
      "execution_count": 0,
      "outputs": []
    },
    {
      "cell_type": "code",
      "metadata": {
        "id": "2r2XQPI1fNwa",
        "colab_type": "code",
        "colab": {}
      },
      "source": [
        "# Reordering data\n",
        "cols = onehot_data.columns.to_list()\n",
        "cols.remove('Suggested Job Role')\n",
        "cols.append('Suggested Job Role')\n",
        "\n",
        "onehot_data = onehot_data.reindex(columns=cols)"
      ],
      "execution_count": 0,
      "outputs": []
    },
    {
      "cell_type": "markdown",
      "metadata": {
        "id": "tq8rwoGWRalm",
        "colab_type": "text"
      },
      "source": [
        "Selecting the dependent and independent varaibles"
      ]
    },
    {
      "cell_type": "code",
      "metadata": {
        "id": "jrrCDzcYRruZ",
        "colab_type": "code",
        "colab": {}
      },
      "source": [
        "from sklearn.preprocessing import OneHotEncoder\n",
        "ohe = OneHotEncoder()\n",
        "\n",
        "X = onehot_data.iloc[:, :-1]\n",
        "\n",
        "y = dataset.iloc[:,-1].values\n",
        "y = ohe.fit_transform(y.reshape(-1,1)).toarray()"
      ],
      "execution_count": 0,
      "outputs": []
    },
    {
      "cell_type": "markdown",
      "metadata": {
        "id": "YWFr70V0SMAf",
        "colab_type": "text"
      },
      "source": [
        "Splitting data into testing and training data"
      ]
    },
    {
      "cell_type": "code",
      "metadata": {
        "id": "Nz353T8SSVh0",
        "colab_type": "code",
        "colab": {}
      },
      "source": [
        "from sklearn.model_selection import train_test_split\n",
        "\n",
        "X_train, X_test, y_train, y_test = train_test_split(X, y, test_size=1/4, random_state=1)"
      ],
      "execution_count": 0,
      "outputs": []
    },
    {
      "cell_type": "markdown",
      "metadata": {
        "id": "JKvhyvHGTwi-",
        "colab_type": "text"
      },
      "source": [
        "# 1. K Nearest Neighbors (KNN)\n"
      ]
    },
    {
      "cell_type": "code",
      "metadata": {
        "id": "poj3IQwuPPm0",
        "colab_type": "code",
        "outputId": "10c7ae13-0d15-4364-f04c-0f028d5ad110",
        "colab": {
          "base_uri": "https://localhost:8080/",
          "height": 1000
        }
      },
      "source": [
        "from sklearn.neighbors import KNeighborsClassifier\n",
        "\n",
        "# List of the classifier model for each Target label\n",
        "knn_classifiers = []\n",
        "knn_accuracy = []\n",
        "\n",
        "for i in range(dataset['Suggested Job Role'].nunique()):\n",
        "  #Training the classifier\n",
        "  knn = KNeighborsClassifier(n_neighbors=5)\n",
        "  knn.fit(X_train.values, np.array(y_train[:,i]).ravel())\n",
        "  \n",
        "  #Appending the classifier to the list\n",
        "  knn_classifiers.append(knn)\n",
        "  print(f\"Accuracy of KNN {i+1}:  {knn.score(X_test,y_test[:,i])}\", end='\\n\\n')\n",
        "  knn_accuracy.append(knn.score(X_test,y_test[:,i]))"
      ],
      "execution_count": 0,
      "outputs": [
        {
          "output_type": "stream",
          "text": [
            "Accuracy of KNN 1:  0.9698\n",
            "\n",
            "Accuracy of KNN 2:  0.9732\n",
            "\n",
            "Accuracy of KNN 3:  0.9698\n",
            "\n",
            "Accuracy of KNN 4:  0.9674\n",
            "\n",
            "Accuracy of KNN 5:  0.9708\n",
            "\n",
            "Accuracy of KNN 6:  0.9718\n",
            "\n",
            "Accuracy of KNN 7:  0.9684\n",
            "\n",
            "Accuracy of KNN 8:  0.9724\n",
            "\n",
            "Accuracy of KNN 9:  0.9712\n",
            "\n",
            "Accuracy of KNN 10:  0.9738\n",
            "\n",
            "Accuracy of KNN 11:  0.9748\n",
            "\n",
            "Accuracy of KNN 12:  0.9734\n",
            "\n",
            "Accuracy of KNN 13:  0.9688\n",
            "\n",
            "Accuracy of KNN 14:  0.972\n",
            "\n",
            "Accuracy of KNN 15:  0.9722\n",
            "\n",
            "Accuracy of KNN 16:  0.9682\n",
            "\n",
            "Accuracy of KNN 17:  0.9464\n",
            "\n",
            "Accuracy of KNN 18:  0.9644\n",
            "\n",
            "Accuracy of KNN 19:  0.969\n",
            "\n",
            "Accuracy of KNN 20:  0.9744\n",
            "\n",
            "Accuracy of KNN 21:  0.9718\n",
            "\n",
            "Accuracy of KNN 22:  0.9722\n",
            "\n",
            "Accuracy of KNN 23:  0.9696\n",
            "\n",
            "Accuracy of KNN 24:  0.9726\n",
            "\n",
            "Accuracy of KNN 25:  0.972\n",
            "\n",
            "Accuracy of KNN 26:  0.9742\n",
            "\n",
            "Accuracy of KNN 27:  0.9712\n",
            "\n",
            "Accuracy of KNN 28:  0.9738\n",
            "\n",
            "Accuracy of KNN 29:  0.9676\n",
            "\n",
            "Accuracy of KNN 30:  0.9744\n",
            "\n",
            "Accuracy of KNN 31:  0.9726\n",
            "\n",
            "Accuracy of KNN 32:  0.9726\n",
            "\n",
            "Accuracy of KNN 33:  0.9658\n",
            "\n",
            "Accuracy of KNN 34:  0.9704\n",
            "\n"
          ],
          "name": "stdout"
        }
      ]
    },
    {
      "cell_type": "markdown",
      "metadata": {
        "id": "1jjLBSur65c0",
        "colab_type": "text"
      },
      "source": [
        "Accuracy graph for the KNN Models"
      ]
    },
    {
      "cell_type": "code",
      "metadata": {
        "id": "9nB7lZEpknIx",
        "colab_type": "code",
        "outputId": "2fd8f303-2750-4c07-bf2c-fd74cab41ff8",
        "colab": {
          "base_uri": "https://localhost:8080/",
          "height": 304
        }
      },
      "source": [
        "plt.figure(figsize=[dataset['Suggested Job Role'].nunique(), 7])\n",
        "plt.plot(range(1, dataset['Suggested Job Role'].nunique()+1), knn_accuracy, label=\"Accuracy\")\n",
        "plt.ylabel(\"Accuracy\")\n",
        "plt.xlabel(\"KNN model\")"
      ],
      "execution_count": 0,
      "outputs": [
        {
          "output_type": "execute_result",
          "data": {
            "text/plain": [
              "Text(0.5, 0, 'KNN model')"
            ]
          },
          "metadata": {
            "tags": []
          },
          "execution_count": 16
        },
        {
          "output_type": "display_data",
          "data": {
            "image/png": "[encoded data removed]",
            "text/plain": [
              "<Figure size 2448x504 with 1 Axes>"
            ]
          },
          "metadata": {
            "tags": [],
            "needs_background": "light"
          }
        }
      ]
    },
    {
      "cell_type": "markdown",
      "metadata": {
        "id": "t-u8gZpr7JIv",
        "colab_type": "text"
      },
      "source": [
        "#2. Decision Tree Classifier"
      ]
    },
    {
      "cell_type": "code",
      "metadata": {
        "id": "bhFgBhmRxUu8",
        "colab_type": "code",
        "outputId": "7b5f1089-d54c-4508-8f39-8e8a4479d360",
        "colab": {
          "base_uri": "https://localhost:8080/",
          "height": 1000
        }
      },
      "source": [
        "from sklearn.tree import DecisionTreeClassifier\n",
        "\n",
        "# List of decision tree classifiers for each Target label\n",
        "dectree_classifiers = []\n",
        "dectree_accuracy = []\n",
        "\n",
        "for i in range(dataset['Suggested Job Role'].nunique()):\n",
        "  #Training the classifier\n",
        "  tree = DecisionTreeClassifier(random_state=0)\n",
        "  tree.fit(X_train.values, np.array(y_train[:,i]).ravel())\n",
        "  \n",
        "  #Appending the classifier to the list\n",
        "  dectree_classifiers.append(tree)\n",
        "  print(f\"Accuracy of Decision Tree {i+1}: {tree.score(X_test,y_test[:,i])}\", end='\\n\\n')\n",
        "\n",
        "  dectree_accuracy.append(tree.score(X_test,y_test[:,i]))"
      ],
      "execution_count": 0,
      "outputs": [
        {
          "output_type": "stream",
          "text": [
            "Accuracy of Decision Tree 1: 0.9306\n",
            "\n",
            "Accuracy of Decision Tree 2: 0.9406\n",
            "\n",
            "Accuracy of Decision Tree 3: 0.9316\n",
            "\n",
            "Accuracy of Decision Tree 4: 0.9296\n",
            "\n",
            "Accuracy of Decision Tree 5: 0.9334\n",
            "\n",
            "Accuracy of Decision Tree 6: 0.9376\n",
            "\n",
            "Accuracy of Decision Tree 7: 0.9348\n",
            "\n",
            "Accuracy of Decision Tree 8: 0.9384\n",
            "\n",
            "Accuracy of Decision Tree 9: 0.9346\n",
            "\n",
            "Accuracy of Decision Tree 10: 0.9342\n",
            "\n",
            "Accuracy of Decision Tree 11: 0.9344\n",
            "\n",
            "Accuracy of Decision Tree 12: 0.9408\n",
            "\n",
            "Accuracy of Decision Tree 13: 0.9364\n",
            "\n",
            "Accuracy of Decision Tree 14: 0.9358\n",
            "\n",
            "Accuracy of Decision Tree 15: 0.94\n",
            "\n",
            "Accuracy of Decision Tree 16: 0.9288\n",
            "\n",
            "Accuracy of Decision Tree 17: 0.8876\n",
            "\n",
            "Accuracy of Decision Tree 18: 0.9268\n",
            "\n",
            "Accuracy of Decision Tree 19: 0.9364\n",
            "\n",
            "Accuracy of Decision Tree 20: 0.9392\n",
            "\n",
            "Accuracy of Decision Tree 21: 0.9356\n",
            "\n",
            "Accuracy of Decision Tree 22: 0.9374\n",
            "\n",
            "Accuracy of Decision Tree 23: 0.9318\n",
            "\n",
            "Accuracy of Decision Tree 24: 0.9384\n",
            "\n",
            "Accuracy of Decision Tree 25: 0.933\n",
            "\n",
            "Accuracy of Decision Tree 26: 0.9426\n",
            "\n",
            "Accuracy of Decision Tree 27: 0.9344\n",
            "\n",
            "Accuracy of Decision Tree 28: 0.933\n",
            "\n",
            "Accuracy of Decision Tree 29: 0.93\n",
            "\n",
            "Accuracy of Decision Tree 30: 0.9412\n",
            "\n",
            "Accuracy of Decision Tree 31: 0.9374\n",
            "\n",
            "Accuracy of Decision Tree 32: 0.9366\n",
            "\n",
            "Accuracy of Decision Tree 33: 0.9302\n",
            "\n",
            "Accuracy of Decision Tree 34: 0.932\n",
            "\n"
          ],
          "name": "stdout"
        }
      ]
    },
    {
      "cell_type": "markdown",
      "metadata": {
        "id": "KqbByC-_7Vl4",
        "colab_type": "text"
      },
      "source": [
        "Accuracy graph for Decision Tree models"
      ]
    },
    {
      "cell_type": "code",
      "metadata": {
        "id": "rrkr8L0-kCC_",
        "colab_type": "code",
        "outputId": "15a290ab-cf9f-46d6-87eb-c493171a2f3e",
        "colab": {
          "base_uri": "https://localhost:8080/",
          "height": 305
        }
      },
      "source": [
        "plt.figure(figsize=[dataset['Suggested Job Role'].nunique(), 7])\n",
        "plt.plot(range(1, dataset['Suggested Job Role'].nunique()+1), dectree_accuracy, label=\"Accuracy\")\n",
        "plt.ylabel(\"Accuracy\")\n",
        "plt.xlabel(\"Decision tree model\")\n",
        "plt.legend()"
      ],
      "execution_count": 0,
      "outputs": [
        {
          "output_type": "execute_result",
          "data": {
            "text/plain": [
              "<matplotlib.legend.Legend at 0x7fbdf8332b00>"
            ]
          },
          "metadata": {
            "tags": []
          },
          "execution_count": 18
        },
        {
          "output_type": "display_data",
          "data": {
            "image/png": "[encoded data removed]",
            "text/plain": [
              "<Figure size 2448x504 with 1 Axes>"
            ]
          },
          "metadata": {
            "tags": [],
            "needs_background": "light"
          }
        }
      ]
    },
    {
      "cell_type": "markdown",
      "metadata": {
        "id": "PgX-u-UL8V8S",
        "colab_type": "text"
      },
      "source": [
        "# K-Means Clustering "
      ]
    },
    {
      "cell_type": "markdown",
      "metadata": {
        "id": "Q7JaJW3Znx41",
        "colab_type": "text"
      },
      "source": [
        "PCA to reduce dimensionality to 2"
      ]
    },
    {
      "cell_type": "code",
      "metadata": {
        "id": "jtjNV9pcn2w0",
        "colab_type": "code",
        "colab": {}
      },
      "source": [
        "from sklearn.decomposition import PCA\n",
        "\n",
        "pca = PCA(n_components=2)\n",
        "data = pca.fit_transform(dataset.iloc[:, :9])"
      ],
      "execution_count": 0,
      "outputs": []
    },
    {
      "cell_type": "markdown",
      "metadata": {
        "id": "9UgEIjV3qK6h",
        "colab_type": "text"
      },
      "source": [
        "Perform Clustering"
      ]
    },
    {
      "cell_type": "code",
      "metadata": {
        "id": "-5Byk6F6iK1W",
        "colab_type": "code",
        "colab": {}
      },
      "source": [
        "from sklearn.cluster import KMeans\n",
        "\n",
        "km = KMeans(\n",
        "    n_clusters=5, init='random',\n",
        "    n_init=10, max_iter=500, random_state=0\n",
        ")\n",
        "\n",
        "y_predict = km.fit_predict(data)"
      ],
      "execution_count": 0,
      "outputs": []
    },
    {
      "cell_type": "markdown",
      "metadata": {
        "id": "Lmj_7nm1qY01",
        "colab_type": "text"
      },
      "source": [
        "Plotting the clusters and their centroids"
      ]
    },
    {
      "cell_type": "code",
      "metadata": {
        "id": "8mrgY7D4Hozq",
        "colab_type": "code",
        "outputId": "dae031cf-ac88-4b04-ac1e-62e911c21e97",
        "colab": {
          "base_uri": "https://localhost:8080/",
          "height": 282
        }
      },
      "source": [
        "plt.scatter(data[:, 0], data[:, 1], c=km.labels_, cmap='rainbow')\n",
        "plt.scatter(km.cluster_centers_[:, 0], km.cluster_centers_[:, 1], color='black')"
      ],
      "execution_count": 0,
      "outputs": [
        {
          "output_type": "execute_result",
          "data": {
            "text/plain": [
              "<matplotlib.collections.PathCollection at 0x7fbdf46ae1d0>"
            ]
          },
          "metadata": {
            "tags": []
          },
          "execution_count": 21
        },
        {
          "output_type": "display_data",
          "data": {
            "image/png": "[encoded data removed]",
            "text/plain": [
              "<Figure size 432x288 with 1 Axes>"
            ]
          },
          "metadata": {
            "tags": [],
            "needs_background": "light"
          }
        }
      ]
    }
  ]
}